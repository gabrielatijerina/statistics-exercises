{
 "cells": [
  {
   "cell_type": "code",
   "execution_count": 2,
   "metadata": {},
   "outputs": [],
   "source": [
    "import numpy as np\n",
    "import pandas as pd\n"
   ]
  },
  {
   "cell_type": "code",
   "execution_count": 37,
   "metadata": {},
   "outputs": [
    {
     "data": {
      "text/html": [
       "<div>\n",
       "<style scoped>\n",
       "    .dataframe tbody tr th:only-of-type {\n",
       "        vertical-align: middle;\n",
       "    }\n",
       "\n",
       "    .dataframe tbody tr th {\n",
       "        vertical-align: top;\n",
       "    }\n",
       "\n",
       "    .dataframe thead th {\n",
       "        text-align: right;\n",
       "    }\n",
       "</style>\n",
       "<table border=\"1\" class=\"dataframe\">\n",
       "  <thead>\n",
       "    <tr style=\"text-align: right;\">\n",
       "      <th></th>\n",
       "      <th>0</th>\n",
       "      <th>1</th>\n",
       "    </tr>\n",
       "  </thead>\n",
       "  <tbody>\n",
       "    <tr>\n",
       "      <th>0</th>\n",
       "      <td>3</td>\n",
       "      <td>2</td>\n",
       "    </tr>\n",
       "    <tr>\n",
       "      <th>1</th>\n",
       "      <td>4</td>\n",
       "      <td>5</td>\n",
       "    </tr>\n",
       "    <tr>\n",
       "      <th>2</th>\n",
       "      <td>2</td>\n",
       "      <td>4</td>\n",
       "    </tr>\n",
       "    <tr>\n",
       "      <th>3</th>\n",
       "      <td>1</td>\n",
       "      <td>1</td>\n",
       "    </tr>\n",
       "    <tr>\n",
       "      <th>4</th>\n",
       "      <td>5</td>\n",
       "      <td>1</td>\n",
       "    </tr>\n",
       "  </tbody>\n",
       "</table>\n",
       "</div>"
      ],
      "text/plain": [
       "   0  1\n",
       "0  3  2\n",
       "1  4  5\n",
       "2  2  4\n",
       "3  1  1\n",
       "4  5  1"
      ]
     },
     "execution_count": 37,
     "metadata": {},
     "output_type": "execute_result"
    }
   ],
   "source": [
    "#1 How likely is it that you roll doubles when rolling two dice?\n",
    "\n",
    "n_simulations = nrows = 10**5\n",
    "n_dice_rolled = ncols = 2\n",
    "\n",
    "rolls = np.random.choice([1, 2, 3, 4, 5, 6], nrows * ncols).reshape(nrows, ncols)\n",
    "\n",
    "df = pd.DataFrame(rolls)\n",
    "df.head(5)"
   ]
  },
  {
   "cell_type": "code",
   "execution_count": 38,
   "metadata": {},
   "outputs": [
    {
     "data": {
      "text/plain": [
       "0.16483"
      ]
     },
     "execution_count": 38,
     "metadata": {},
     "output_type": "execute_result"
    }
   ],
   "source": [
    "roll_doubles = (df[0] == df[1]).mean()\n",
    "roll_doubles"
   ]
  },
  {
   "cell_type": "code",
   "execution_count": 48,
   "metadata": {},
   "outputs": [
    {
     "data": {
      "text/plain": [
       "(array([3, 4, 3, ..., 5, 3, 6]), array([6, 2, 1, ..., 2, 3, 3]))"
      ]
     },
     "execution_count": 48,
     "metadata": {},
     "output_type": "execute_result"
    }
   ],
   "source": [
    "# Exercise 1 Alternate Solution \n",
    "first_die = np.random.choice([1, 2, 3, 4, 5, 6], size=100_000)\n",
    "second_die = np.random.choice([1, 2, 3, 4, 5, 6], size=100_000)\n",
    "\n",
    "first_die, second_die"
   ]
  },
  {
   "cell_type": "code",
   "execution_count": 47,
   "metadata": {},
   "outputs": [
    {
     "data": {
      "text/plain": [
       "0.16606"
      ]
     },
     "execution_count": 47,
     "metadata": {},
     "output_type": "execute_result"
    }
   ],
   "source": [
    "(first_die == second_die).mean()"
   ]
  },
  {
   "cell_type": "code",
   "execution_count": 54,
   "metadata": {},
   "outputs": [
    {
     "data": {
      "text/plain": [
       "0.21698"
      ]
     },
     "execution_count": 54,
     "metadata": {},
     "output_type": "execute_result"
    }
   ],
   "source": [
    "#2 If you flip 8 coins, what is the probability of getting exactly 3 heads? What is the probability of getting more than 3 heads?\n",
    "\n",
    "simulation = np.random.choice([\"heads\", \"tails\"], 100_000 * 8, p = [.5,.5]).reshape(100_000, 8)\n",
    "df = pd.DataFrame(simulation)\n",
    "df1 = (df==\"heads\")\n",
    "\n",
    "# the probability of exactly three heads\n",
    "(df1.sum(axis = 1) == 3).mean() \n"
   ]
  },
  {
   "cell_type": "code",
   "execution_count": 64,
   "metadata": {},
   "outputs": [
    {
     "data": {
      "text/plain": [
       "0.63804"
      ]
     },
     "execution_count": 64,
     "metadata": {},
     "output_type": "execute_result"
    }
   ],
   "source": [
    "# probability of more than three heads\n",
    "(df1.sum(axis =1) > 3).mean() "
   ]
  },
  {
   "cell_type": "code",
   "execution_count": 65,
   "metadata": {},
   "outputs": [
    {
     "data": {
      "text/plain": [
       "array([[False,  True, False, ...,  True,  True,  True],\n",
       "       [False, False,  True, ...,  True,  True,  True],\n",
       "       [False,  True,  True, ...,  True, False, False],\n",
       "       ...,\n",
       "       [False, False, False, ..., False,  True,  True],\n",
       "       [False, False, False, ..., False,  True,  True],\n",
       "       [False,  True,  True, ...,  True, False,  True]])"
      ]
     },
     "execution_count": 65,
     "metadata": {},
     "output_type": "execute_result"
    }
   ],
   "source": [
    "#2 Alternate Solution \n",
    "outcomes = ['heads', 'tails']\n",
    "n_simulations = 100_000\n",
    "n_trials = 8 #b/c 8 coins\n",
    "flips = np.random.choice(outcomes, size=(n_simulations, n_trials))\n",
    "(flips == 'heads')"
   ]
  },
  {
   "cell_type": "code",
   "execution_count": 67,
   "metadata": {},
   "outputs": [
    {
     "data": {
      "text/plain": [
       "array([4, 4, 5, ..., 2, 3, 6])"
      ]
     },
     "execution_count": 67,
     "metadata": {},
     "output_type": "execute_result"
    }
   ],
   "source": [
    "sum_of_flips = (flips == 'heads').sum(axis=1)\n",
    "sum_of_flips"
   ]
  },
  {
   "cell_type": "code",
   "execution_count": 68,
   "metadata": {},
   "outputs": [
    {
     "data": {
      "text/plain": [
       "0.21808"
      ]
     },
     "execution_count": 68,
     "metadata": {},
     "output_type": "execute_result"
    }
   ],
   "source": [
    "(sum_of_flips == 3).mean()"
   ]
  },
  {
   "cell_type": "code",
   "execution_count": 69,
   "metadata": {},
   "outputs": [
    {
     "data": {
      "text/plain": [
       "0.63819"
      ]
     },
     "execution_count": 69,
     "metadata": {},
     "output_type": "execute_result"
    }
   ],
   "source": [
    "(sum_of_flips > 3).mean()"
   ]
  },
  {
   "cell_type": "code",
   "execution_count": 56,
   "metadata": {},
   "outputs": [
    {
     "data": {
      "text/plain": [
       "0.06194"
      ]
     },
     "execution_count": 56,
     "metadata": {},
     "output_type": "execute_result"
    }
   ],
   "source": [
    "#3 There are approximitely 3 web development cohorts for every 1 data science cohort at Codeup. Assuming that Codeup randomly selects an alumni to put on a billboard, what are the odds that the two billboards I drive past both have data science students on them?\n",
    "\n",
    "billboard = np.random.choice(['webdevelopment', 'datascience'], size = (100_000,2), p =(0.75, 0.25)).reshape(100_000, 2)\n",
    "datascience_billboard = billboard ==['datascience', 'datascience']\n",
    "(datascience_billboard.sum(axis =1)==2).mean()"
   ]
  },
  {
   "cell_type": "code",
   "execution_count": 70,
   "metadata": {},
   "outputs": [
    {
     "data": {
      "text/plain": [
       "array([[False, False],\n",
       "       [False, False],\n",
       "       [False, False],\n",
       "       ...,\n",
       "       [False, False],\n",
       "       [False,  True],\n",
       "       [False,  True]])"
      ]
     },
     "execution_count": 70,
     "metadata": {},
     "output_type": "execute_result"
    }
   ],
   "source": [
    "# 3 Alternate Solution\n",
    "outcomes = ['webdev', 'ds']\n",
    "drivebys = np.random.choice(outcomes, size = (100_000, 2), p = [0.75, 0.25])\n",
    "(drivebys == 'ds')"
   ]
  },
  {
   "cell_type": "code",
   "execution_count": 75,
   "metadata": {},
   "outputs": [
    {
     "data": {
      "text/plain": [
       "array([0, 0, 0, ..., 0, 1, 1])"
      ]
     },
     "execution_count": 75,
     "metadata": {},
     "output_type": "execute_result"
    }
   ],
   "source": [
    "sum_of_drivebys = (drivebys == 'ds').sum(axis=1)\n",
    "sum_of_drivebys"
   ]
  },
  {
   "cell_type": "code",
   "execution_count": 76,
   "metadata": {},
   "outputs": [
    {
     "data": {
      "text/plain": [
       "0.062"
      ]
     },
     "execution_count": 76,
     "metadata": {},
     "output_type": "execute_result"
    }
   ],
   "source": [
    "(sum_of_drivebys == 2).mean()"
   ]
  },
  {
   "cell_type": "code",
   "execution_count": 83,
   "metadata": {},
   "outputs": [
    {
     "data": {
      "text/plain": [
       "array([[2.98992299, 1.56375789, 5.16384864, 3.30251713, 3.81988848],\n",
       "       [2.76384356, 1.79697976, 1.90386386, 1.61480224, 2.20077029],\n",
       "       [4.32037113, 6.60857019, 3.00961195, 3.26314202, 2.21187184],\n",
       "       ...,\n",
       "       [2.12887583, 3.03929328, 1.68101368, 2.75227849, 1.14428215],\n",
       "       [2.60049799, 3.59137457, 3.68761694, 4.05050287, 1.19782085],\n",
       "       [5.88254944, 2.6856739 , 3.82881028, 3.79317684, 2.78082093]])"
      ]
     },
     "execution_count": 83,
     "metadata": {},
     "output_type": "execute_result"
    }
   ],
   "source": [
    "#4 Codeup students buy, on average, 3 poptart packages (+- 1.5) a day from the snack vending machine. If on monday the machine is restocked with 17 poptart packages, how likely is it that I will be able to buy some poptarts on Friday afternoon?\n",
    "\n",
    "poptarts = np.random.normal(3, 1.5, size = (100_000, 5)) \n",
    "# 5 because of 5 days between Mon-Fri\n",
    "# 3 poptart packages is specified mean, 1.5 is std dev\n",
    "poptarts\n"
   ]
  },
  {
   "cell_type": "code",
   "execution_count": 85,
   "metadata": {},
   "outputs": [
    {
     "data": {
      "text/plain": [
       "array([16.83993514, 10.28025971, 19.41356712, ..., 10.74574343,\n",
       "       15.12781322, 18.9710314 ])"
      ]
     },
     "execution_count": 85,
     "metadata": {},
     "output_type": "execute_result"
    }
   ],
   "source": [
    "weekly_demand = poptarts.sum(axis=1)\n",
    "weekly_demand"
   ]
  },
  {
   "cell_type": "code",
   "execution_count": 118,
   "metadata": {},
   "outputs": [
    {
     "data": {
      "text/plain": [
       "0.72597"
      ]
     },
     "execution_count": 118,
     "metadata": {},
     "output_type": "execute_result"
    }
   ],
   "source": [
    "(weekly_demand <= 17). mean() "
   ]
  },
  {
   "cell_type": "code",
   "execution_count": 115,
   "metadata": {},
   "outputs": [
    {
     "data": {
      "text/plain": [
       "array([[3.0090451 , 3.03046485, 4.81249209, 3.21069401, 1.88327606],\n",
       "       [3.32365401, 1.16377461, 4.01697993, 3.40104115, 6.87566303],\n",
       "       [3.53086164, 2.2182025 , 2.0495082 , 2.63896644, 0.97494356],\n",
       "       ...,\n",
       "       [4.35074793, 0.18729575, 3.89433026, 4.11097154, 1.95753614],\n",
       "       [2.17922115, 4.93493686, 2.12381904, 5.03740718, 0.88688132],\n",
       "       [3.93773228, 4.15014638, 4.82513892, 4.30188352, 2.03217866]])"
      ]
     },
     "execution_count": 115,
     "metadata": {},
     "output_type": "execute_result"
    }
   ],
   "source": [
    "#4 Class Solution\n",
    "\n",
    "pop_avg = 3\n",
    "pop_std = 1.5\n",
    "n_trials = n_nols = 5\n",
    "n_simulations = n_rows = 1_000_000\n",
    "simulated_consumed_poptarts = np.random.normal(pop_avg, pop_std, size =(n_simulations, n_trials))\n",
    "simulated_consumed_poptarts"
   ]
  },
  {
   "cell_type": "code",
   "execution_count": 117,
   "metadata": {},
   "outputs": [
    {
     "data": {
      "text/plain": [
       "0.724221"
      ]
     },
     "execution_count": 117,
     "metadata": {},
     "output_type": "execute_result"
    }
   ],
   "source": [
    "calculated_prob = (simulated_consumed_poptarts.sum(axis = 1) <= 17).mean()\n",
    "calculated_prob"
   ]
  },
  {
   "cell_type": "code",
   "execution_count": 87,
   "metadata": {},
   "outputs": [
    {
     "data": {
      "text/plain": [
       "array([169.00548952, 168.17205702, 181.52430776, ..., 182.4247252 ,\n",
       "       178.97743371, 181.15386036])"
      ]
     },
     "execution_count": 87,
     "metadata": {},
     "output_type": "execute_result"
    }
   ],
   "source": [
    "#5 Compare Heights\n",
    "    # Men have an average height of 178 cm and standard deviation of 8cm.\n",
    "    # Women have a mean of 170, sd = 6cm.\n",
    "    # If a man and woman are chosen at random, P(woman taller than man)?\n",
    "\n",
    "men = np.random.normal(178, 8, size=(100_00))\n",
    "men\n"
   ]
  },
  {
   "cell_type": "code",
   "execution_count": 88,
   "metadata": {},
   "outputs": [
    {
     "data": {
      "text/plain": [
       "array([169.76310827, 171.60588145, 169.52987959, ..., 179.35309141,\n",
       "       167.04862785, 172.41585743])"
      ]
     },
     "execution_count": 88,
     "metadata": {},
     "output_type": "execute_result"
    }
   ],
   "source": [
    "women = np.random.normal(170, 6, size=(100_00))\n",
    "women"
   ]
  },
  {
   "cell_type": "code",
   "execution_count": 89,
   "metadata": {},
   "outputs": [
    {
     "data": {
      "text/plain": [
       "0.2034"
      ]
     },
     "execution_count": 89,
     "metadata": {},
     "output_type": "execute_result"
    }
   ],
   "source": [
    "(women>men).mean()"
   ]
  },
  {
   "cell_type": "code",
   "execution_count": 120,
   "metadata": {},
   "outputs": [],
   "source": [
    "#5 Class Solution\n",
    "men_avg = 178\n",
    "men_std = 8\n",
    "wmn_avg = 170\n",
    "wmn_std = 6"
   ]
  },
  {
   "cell_type": "code",
   "execution_count": 121,
   "metadata": {},
   "outputs": [
    {
     "data": {
      "text/plain": [
       "array([164.76646582, 174.07314598, 182.96271275, ..., 180.73774697,\n",
       "       177.54073614, 179.47074437])"
      ]
     },
     "execution_count": 121,
     "metadata": {},
     "output_type": "execute_result"
    }
   ],
   "source": [
    "s_men = np.random.normal(men_avg, men_std, 1_000_000)\n",
    "s_men"
   ]
  },
  {
   "cell_type": "code",
   "execution_count": 122,
   "metadata": {},
   "outputs": [
    {
     "data": {
      "text/plain": [
       "array([165.17517522, 179.13392751, 179.18441179, ..., 177.31155761,\n",
       "       166.03699215, 175.86000635])"
      ]
     },
     "execution_count": 122,
     "metadata": {},
     "output_type": "execute_result"
    }
   ],
   "source": [
    "s_wmn = np.random.normal(wmn_avg, wmn_std, 1_000_000)\n",
    "s_wmn"
   ]
  },
  {
   "cell_type": "code",
   "execution_count": 123,
   "metadata": {},
   "outputs": [
    {
     "data": {
      "text/plain": [
       "0.211617"
      ]
     },
     "execution_count": 123,
     "metadata": {},
     "output_type": "execute_result"
    }
   ],
   "source": [
    "(s_wmn > s_men).mean()"
   ]
  },
  {
   "cell_type": "code",
   "execution_count": 166,
   "metadata": {},
   "outputs": [],
   "source": [
    "#6 When installing anaconda on a student's computer, there's a 1 in 250 chance that the download is corrupted and the installation fails. \n",
    "    #What are the odds that after having 50 students download anaconda, no one has an installation issue? 100 students?\n",
    "    # What is the probability that we observe an installation issue within the first 150 students that download anaconda?\n",
    "    # How likely is it that 450 students all download anaconda without an issue?\n",
    "\n",
    "#probability of 50 successes    \n",
    "anaconda_install = np.random.choice(['fail', 'success'], size = (100_000, 50), p = (1/250, 249/250))"
   ]
  },
  {
   "cell_type": "code",
   "execution_count": 167,
   "metadata": {},
   "outputs": [
    {
     "data": {
      "text/plain": [
       "0.8179"
      ]
     },
     "execution_count": 167,
     "metadata": {},
     "output_type": "execute_result"
    }
   ],
   "source": [
    "success_50 = ((anaconda_install == 'success').sum(axis=1) == 50).mean()\n",
    "success_50"
   ]
  },
  {
   "cell_type": "code",
   "execution_count": 168,
   "metadata": {},
   "outputs": [
    {
     "data": {
      "text/plain": [
       "0.66806"
      ]
     },
     "execution_count": 168,
     "metadata": {},
     "output_type": "execute_result"
    }
   ],
   "source": [
    "#probabilty of 100 successes\n",
    "anaconda_install = np.random.choice(['fail', 'success'], size = (100_000, 100), p = (1/250, 249/250))\n",
    "\n",
    "\n",
    "success_100 = ((anaconda_install == 'success').sum(axis=1) == 100).mean()\n",
    "success_100"
   ]
  },
  {
   "cell_type": "code",
   "execution_count": 182,
   "metadata": {},
   "outputs": [
    {
     "data": {
      "text/plain": [
       "0.45313"
      ]
     },
     "execution_count": 182,
     "metadata": {},
     "output_type": "execute_result"
    }
   ],
   "source": [
    "#6b What is the probability that we observe an installation issue within the first 150 students that download anaconda?\n",
    "\n",
    "anaconda_install = np.random.choice(['fail', 'success'], size = (100_000, 150), p = (1/250, 249/250))\n",
    "\n",
    "install_issue = ((anaconda_install == 'success').sum(axis=1) < 150).mean()\n",
    "install_issue"
   ]
  },
  {
   "cell_type": "code",
   "execution_count": 185,
   "metadata": {},
   "outputs": [
    {
     "data": {
      "text/plain": [
       "0.45205"
      ]
     },
     "execution_count": 185,
     "metadata": {},
     "output_type": "execute_result"
    }
   ],
   "source": [
    "#6b Alternate Solution \n",
    "anaconda_install = np.random.choice(['fail', 'success'], size = (100_000, 150), p = (1/250, 249/250))\n",
    "\n",
    "install_issue = ((anaconda_install == 'fail').sum(axis=1) > 0).mean()\n",
    "install_issue"
   ]
  },
  {
   "cell_type": "code",
   "execution_count": 183,
   "metadata": {},
   "outputs": [
    {
     "data": {
      "text/plain": [
       "0.16503"
      ]
     },
     "execution_count": 183,
     "metadata": {},
     "output_type": "execute_result"
    }
   ],
   "source": [
    "#6c How likely is it that 450 students all download anaconda without an issue?\n",
    "anaconda_install = np.random.choice(['fail', 'success'], size = (100_000, 450), p = (1/250, 249/250))\n",
    "success_450 = ((anaconda_install == 'success').sum(axis=1) == 450).mean()\n",
    "success_450\n"
   ]
  },
  {
   "cell_type": "code",
   "execution_count": 9,
   "metadata": {},
   "outputs": [],
   "source": [
    "#7 There's a 70% chance on any given day that there will be at least one food truck at Travis Park. However, you haven't seen a food truck there in 3 days. How unlikely is this?\n",
    "    # How likely is it that a food truck will show up sometime this week?"
   ]
  },
  {
   "cell_type": "code",
   "execution_count": 186,
   "metadata": {},
   "outputs": [],
   "source": [
    "#7 Class Solution\n",
    "# You haven't seen a food truck there in 3 days. How unlikely is this?\n",
    "n_simulations = nrows = 1_000_000\n",
    "n_trials = ncols = 3\n",
    "food_truck = 1\n",
    "no_truck = 0\n",
    "lunch_days = np.random.choice([food_truck, no_truck], size=(n_simulations, n_trials), p=[.7, .3])\n"
   ]
  },
  {
   "cell_type": "code",
   "execution_count": 187,
   "metadata": {},
   "outputs": [
    {
     "data": {
      "text/plain": [
       "0.027211"
      ]
     },
     "execution_count": 187,
     "metadata": {},
     "output_type": "execute_result"
    }
   ],
   "source": [
    "calculated_prob = (lunch_days.sum(axis=1) == 0).mean()\n",
    "calculated_prob"
   ]
  },
  {
   "cell_type": "code",
   "execution_count": 188,
   "metadata": {},
   "outputs": [],
   "source": [
    "# How likely is it that a food truck will show up sometime this week?\n",
    "n_simulations = nrows = 1_000_000\n",
    "n_trials = ncols = 2\n",
    "food_truck = 1\n",
    "no_truck = 0\n",
    "lunch_days = np.random.choice([food_truck, no_truck], size=(n_simulations, n_trials), p=[.7, .3])"
   ]
  },
  {
   "cell_type": "code",
   "execution_count": 189,
   "metadata": {},
   "outputs": [
    {
     "data": {
      "text/plain": [
       "0.910024"
      ]
     },
     "execution_count": 189,
     "metadata": {},
     "output_type": "execute_result"
    }
   ],
   "source": [
    "calculated_prob = (lunch_days.sum(axis=1) > 0).mean()\n",
    "calculated_prob"
   ]
  },
  {
   "cell_type": "code",
   "execution_count": 207,
   "metadata": {},
   "outputs": [
    {
     "data": {
      "text/plain": [
       "0.02694"
      ]
     },
     "execution_count": 207,
     "metadata": {},
     "output_type": "execute_result"
    }
   ],
   "source": [
    "#7 My Solution \n",
    "# You haven't seen a food truck there in 3 days. How unlikely is this?\n",
    "\n",
    "lunch_days = np.random.choice(['food_truck', 'no_truck'], size = (100_000,3), p = ([0.7, 0.3]))\n",
    "((lunch_days == 'no_truck').sum(axis = 1) == 3).mean()"
   ]
  },
  {
   "cell_type": "code",
   "execution_count": 214,
   "metadata": {},
   "outputs": [
    {
     "data": {
      "text/plain": [
       "0.99984"
      ]
     },
     "execution_count": 214,
     "metadata": {},
     "output_type": "execute_result"
    }
   ],
   "source": [
    "# How likely is it that a food truck will show up sometime this week?\n",
    "\n",
    "lunch_days = np.random.choice(['food_truck', 'no_truck'], size = (100_000, 7), p = ([0.7, 0.3]))\n",
    "((lunch_days == 'food_truck').sum(axis = 1) > 0).mean()"
   ]
  },
  {
   "cell_type": "code",
   "execution_count": 224,
   "metadata": {},
   "outputs": [
    {
     "data": {
      "text/plain": [
       "0.5071"
      ]
     },
     "execution_count": 224,
     "metadata": {},
     "output_type": "execute_result"
    }
   ],
   "source": [
    "#8 If 23 people are in the same room, what are the odds that two of them share a birthday? What if it's 20 people? 40?\n",
    "bday = np.random.randint(1, 366, (10_000, 23))\n",
    "(pd.DataFrame(bday).nunique(axis=1) < 23).mean()"
   ]
  },
  {
   "cell_type": "code",
   "execution_count": 227,
   "metadata": {},
   "outputs": [
    {
     "data": {
      "text/plain": [
       "0.4014"
      ]
     },
     "execution_count": 227,
     "metadata": {},
     "output_type": "execute_result"
    }
   ],
   "source": [
    "# What if it's 20 people?\n",
    "bday = np.random.randint(1, 366, (10_000, 20))\n",
    "(pd.DataFrame(bday).nunique(axis=1) < 20).mean()"
   ]
  },
  {
   "cell_type": "code",
   "execution_count": 228,
   "metadata": {},
   "outputs": [
    {
     "data": {
      "text/plain": [
       "0.8863"
      ]
     },
     "execution_count": 228,
     "metadata": {},
     "output_type": "execute_result"
    }
   ],
   "source": [
    "# What if it's 40 people?\n",
    "bday = np.random.randint(1, 366, (10_000, 40))\n",
    "(pd.DataFrame(bday).nunique(axis=1) < 40).mean()"
   ]
  }
 ],
 "metadata": {
  "kernelspec": {
   "display_name": "Python 3",
   "language": "python",
   "name": "python3"
  },
  "language_info": {
   "codemirror_mode": {
    "name": "ipython",
    "version": 3
   },
   "file_extension": ".py",
   "mimetype": "text/x-python",
   "name": "python",
   "nbconvert_exporter": "python",
   "pygments_lexer": "ipython3",
   "version": "3.8.5"
  }
 },
 "nbformat": 4,
 "nbformat_minor": 4
}
